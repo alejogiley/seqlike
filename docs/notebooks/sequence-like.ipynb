{
 "cells": [
  {
   "cell_type": "code",
   "execution_count": null,
   "id": "925a4ec5-edb5-450e-940b-f817268d1d9a",
   "metadata": {},
   "outputs": [],
   "source": [
    "%load_ext autoreload \n",
    "%autoreload 2"
   ]
  },
  {
   "cell_type": "code",
   "execution_count": null,
   "id": "66812a41-7e59-4fd4-8c8e-cc9e8c48d8ad",
   "metadata": {},
   "outputs": [],
   "source": [
    "from seqlike.SequenceLike import SequenceLike\n",
    "from itertools import product \n",
    "import matplotlib.pyplot as plt"
   ]
  },
  {
   "cell_type": "markdown",
   "id": "725e5d78-aa80-4ebb-bc15-52eee17ea21f",
   "metadata": {},
   "source": [
    "# How to use the `SequenceLike` class"
   ]
  },
  {
   "cell_type": "markdown",
   "id": "107c6c49-fb56-4ef7-a193-8479feeb7a1f",
   "metadata": {},
   "source": [
    "In this notebook, we will show you how to use the `SequenceLike` class."
   ]
  },
  {
   "cell_type": "markdown",
   "id": "c481b354-eb8d-4122-b747-c081d7acf0a2",
   "metadata": {},
   "source": [
    "## tl;dr example"
   ]
  },
  {
   "cell_type": "markdown",
   "id": "abb1a4bf-ef16-41c5-b983-79040365dc2d",
   "metadata": {},
   "source": [
    "We can generate SequenceLike classes from sequences \n",
    "that are more complicated in computational form than simple strings.\n",
    "One example is a codon sequence, which comes in triplets of letters."
   ]
  },
  {
   "cell_type": "code",
   "execution_count": null,
   "id": "cddf0059-637e-4535-871b-cbb77a3308fc",
   "metadata": {},
   "outputs": [],
   "source": [
    "sequence = [\"ACC\", \"CAT\", \"GCA\", \"AAA\", \"ATA\", \"AAA\", \"ACC\", \"CAT\"]"
   ]
  },
  {
   "cell_type": "markdown",
   "id": "65ade087-4bcb-4293-a105-40d73f376d21",
   "metadata": {},
   "source": [
    "By passing it into the `SequenceLike` constructor, \n",
    "we can gain access to many of the convenient methods available for SeqLike objects."
   ]
  },
  {
   "cell_type": "code",
   "execution_count": null,
   "id": "afe10aac-a8e8-43bc-a115-51e8e0e51e58",
   "metadata": {},
   "outputs": [],
   "source": [
    "s = SequenceLike(sequence)"
   ]
  },
  {
   "cell_type": "markdown",
   "id": "2a62a6c0-e07c-4498-94cd-fc7628fcf0e2",
   "metadata": {},
   "source": [
    "For example, it's possible to count the number of times a sequence element is found in the sequence:"
   ]
  },
  {
   "cell_type": "code",
   "execution_count": null,
   "id": "c75ea4f5-ca34-4fb2-94b9-22c4a1ee124e",
   "metadata": {},
   "outputs": [],
   "source": [
    "s.count([\"ACC\"])"
   ]
  },
  {
   "cell_type": "markdown",
   "id": "5341fac0-3e56-4172-a78c-49cd7b07ac1d",
   "metadata": {},
   "source": [
    "The alphabet is also inferred directly from the sequence.\n",
    "(Unless explicitly specified, of course!)"
   ]
  },
  {
   "cell_type": "code",
   "execution_count": null,
   "id": "e3051cf3-ac77-4c0e-878b-ae46a1ea040d",
   "metadata": {},
   "outputs": [],
   "source": [
    "s.alphabet"
   ]
  },
  {
   "cell_type": "code",
   "execution_count": null,
   "id": "0b1a5850-8281-49eb-bc7e-a1cfcc431255",
   "metadata": {},
   "outputs": [],
   "source": [
    "codon_alphabet = [f\"{l1}{l2}{l3}\" for l1, l2, l3 in product(\"ATGC\", \"ATGC\", \"ATGC\")]\n",
    "s2 = SequenceLike(sequence, alphabet=codon_alphabet)\n",
    "s2.alphabet[0:10]"
   ]
  },
  {
   "cell_type": "markdown",
   "id": "bd725ee6-3fbb-4887-bf5a-b7262ad817f9",
   "metadata": {},
   "source": [
    "We can obtain matrix representations of the sequence as well."
   ]
  },
  {
   "cell_type": "code",
   "execution_count": null,
   "id": "19edc88c-b28d-4747-ab93-1dd7e6e0fd77",
   "metadata": {},
   "outputs": [],
   "source": [
    "s.to_index()"
   ]
  },
  {
   "cell_type": "markdown",
   "id": "5951bc53-1c42-4268-bfb7-e23c0026bf1b",
   "metadata": {},
   "source": [
    "By comparison, if the alphabet is defined, the indexing will be different:"
   ]
  },
  {
   "cell_type": "code",
   "execution_count": null,
   "id": "f4d86c3a-71f7-45ad-ade1-ed585156c2b4",
   "metadata": {},
   "outputs": [],
   "source": [
    "s2.to_index()"
   ]
  },
  {
   "cell_type": "markdown",
   "id": "c5a8e91c-56b4-4a94-a022-da2045bb3557",
   "metadata": {},
   "source": [
    "Same goes for the one-hot representation:"
   ]
  },
  {
   "cell_type": "code",
   "execution_count": null,
   "id": "1d2c498a-199c-4777-a0ed-0b5dbe0090fe",
   "metadata": {},
   "outputs": [],
   "source": [
    "plt.imshow(s.to_onehot())"
   ]
  },
  {
   "cell_type": "code",
   "execution_count": null,
   "id": "9f84f51f-620d-4c54-b6b6-863429faf931",
   "metadata": {},
   "outputs": [],
   "source": [
    "plt.imshow(s2.to_onehot())"
   ]
  },
  {
   "cell_type": "markdown",
   "id": "96d433a6-5b36-4581-b230-02d4a7cb0c92",
   "metadata": {},
   "source": [
    "The string representation also provides a sane default:"
   ]
  },
  {
   "cell_type": "code",
   "execution_count": null,
   "id": "7648e034-eb61-422d-afcd-86404376a2b8",
   "metadata": {},
   "outputs": [],
   "source": [
    "str(s)"
   ]
  },
  {
   "cell_type": "code",
   "execution_count": null,
   "id": "cbcfe0a8-3e7f-4d94-bb9f-1b5a8fe4d1ac",
   "metadata": {},
   "outputs": [],
   "source": [
    "s.to_str()"
   ]
  }
 ],
 "metadata": {
  "kernelspec": {
   "display_name": "Python 3 (ipykernel)",
   "language": "python",
   "name": "python3"
  },
  "language_info": {
   "codemirror_mode": {
    "name": "ipython",
    "version": 3
   },
   "file_extension": ".py",
   "mimetype": "text/x-python",
   "name": "python",
   "nbconvert_exporter": "python",
   "pygments_lexer": "ipython3",
   "version": "3.9.0"
  }
 },
 "nbformat": 4,
 "nbformat_minor": 5
}
